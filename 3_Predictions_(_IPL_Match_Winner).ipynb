{
  "nbformat": 4,
  "nbformat_minor": 0,
  "metadata": {
    "colab": {
      "provenance": []
    },
    "kernelspec": {
      "name": "python3",
      "display_name": "Python 3"
    },
    "language_info": {
      "name": "python"
    }
  },
  "cells": [
    {
      "cell_type": "markdown",
      "source": [
        "**1. Predictions using Neural Network**"
      ],
      "metadata": {
        "id": "GlnfecF2LgPf"
      }
    },
    {
      "cell_type": "code",
      "source": [
        "import pandas as pd\n",
        "import numpy as np\n",
        "from tensorflow.keras.models import load_model\n",
        "from google.colab import drive\n",
        "from IPython.display import display, HTML\n",
        "import joblib\n",
        "import os\n",
        "\n",
        "# Mount Google Drive\n",
        "drive.mount('/content/drive')\n",
        "\n",
        "# Apply CSS styling\n",
        "def apply_css():\n",
        "    display(HTML(\"\"\"\n",
        "    <style>\n",
        "        .main-header { color: #0066cc; text-align: center; font-size: 32px; font-weight: bold; margin-bottom: 20px; }\n",
        "        .sub-header { color: #0066cc; font-size: 20px; font-weight: bold; margin: 20px 0 10px; }\n",
        "        .prediction-box { background-color: #e6f0ff; border-radius: 10px; padding: 15px; margin: 10px 0; }\n",
        "        .prediction-result { font-size: 20px; font-weight: bold; color: #006600; text-align: center; }\n",
        "    </style>\n",
        "    \"\"\"))\n",
        "\n",
        "# Load model and scaler\n",
        "drive_path = '/content/drive/MyDrive/IPL match winner models'\n",
        "model_path = os.path.join(drive_path, 'neural_network_model.h5')\n",
        "scaler_path = os.path.join(drive_path, 'scaler.joblib')\n",
        "\n",
        "if os.path.exists(model_path) and os.path.exists(scaler_path):\n",
        "    model = load_model(model_path)\n",
        "    scaler = joblib.load(scaler_path)\n",
        "    print(\"Neural Network model and scaler loaded.\")\n",
        "    print(\"Expected features:\", scaler.feature_names_in_)\n",
        "else:\n",
        "    print(\"Model or scaler not found. Please train the model first.\")\n",
        "    model, scaler = None, None\n",
        "\n",
        "# Define teams and cities (adjust based on training data)\n",
        "IPL_TEAMS = ['Delhi Capitals', 'Gujarat Titans', 'Kolkata Knight Riders', 'Lucknow Super Giants',\n",
        "             'Mumbai Indians', 'Chennai Super Kings', 'Royal Challengers Bangalore',\n",
        "             'Sunrisers Hyderabad', 'Punjab Kings', 'Rajasthan Royals']\n",
        "IPL_CITIES = ['Bengaluru', 'Chennai', 'Delhi', 'Dharamsala', 'Guwahati', 'Mumbai', 'Kolkata',\n",
        "              'Hyderabad', 'Jaipur', 'Mullanpur/New Chandigarh', 'Visakhapatnam']\n",
        "\n",
        "# Prepare input data\n",
        "def prepare_input_data(runs_left, balls_left, wickets_remaining, total_run_x, crr, rrr, batting_team, bowling_team, city, scaler):\n",
        "    data = {'runs_left': [runs_left], 'balls_left': [balls_left], 'wickets_remaining': [wickets_remaining],\n",
        "            'total_run_x': [total_run_x], 'crr': [crr], 'rrr': [rrr]}\n",
        "    input_df = pd.DataFrame(data)\n",
        "\n",
        "    for team in IPL_TEAMS:\n",
        "        input_df[f'batting_team_{team}'] = [1 if team == batting_team else 0]\n",
        "        input_df[f'bowling_team_{team}'] = [1 if team == bowling_team else 0]\n",
        "    for city_name in IPL_CITIES:\n",
        "        input_df[f'city_{city_name}'] = [1 if city_name == city else 0]\n",
        "\n",
        "    expected_features = scaler.feature_names_in_\n",
        "    missing_features = [feat for feat in expected_features if feat not in input_df.columns]\n",
        "    for feat in missing_features:\n",
        "        input_df[feat] = 0\n",
        "    input_df = input_df[expected_features]\n",
        "    return input_df\n",
        "\n",
        "# Main interface\n",
        "def neural_network_interface():\n",
        "    apply_css()\n",
        "    display(HTML('<h1 class=\"main-header\">Neural Network IPL Predictor</h1>'))\n",
        "    if not model or not scaler:\n",
        "        print(\"Cannot proceed without model and scaler.\")\n",
        "        return\n",
        "\n",
        "    # Inputs\n",
        "    display(HTML('<h2 class=\"sub-header\">Match Situation</h2>'))\n",
        "    runs_left = float(input(\"Runs Left (0-300): \") or 100)\n",
        "    balls_left = float(input(\"Balls Left (0-120): \") or 60)\n",
        "    wickets_remaining = int(input(\"Wickets Remaining (0-10): \") or 7)\n",
        "    total_run_x = float(input(\"Target Score (0-300): \") or 180)\n",
        "\n",
        "    current_score = total_run_x - runs_left\n",
        "    overs_completed = 20 - (balls_left / 6)\n",
        "    crr = current_score / overs_completed if overs_completed > 0 else 0\n",
        "    rrr = (runs_left * 6) / balls_left if balls_left > 0 else 0\n",
        "    print(f\"\\nCurrent Run Rate: {crr:.2f}\")\n",
        "    print(f\"Required Run Rate: {rrr:.2f}\")\n",
        "\n",
        "    display(HTML('<h2 class=\"sub-header\">Select Teams and City</h2>'))\n",
        "    print(f\"Teams: {IPL_TEAMS}\")\n",
        "    batting_team = input(\"Batting Team: \") or IPL_TEAMS[0]\n",
        "    bowling_team = input(\"Bowling Team: \") or IPL_TEAMS[1]\n",
        "    print(f\"Cities: {IPL_CITIES}\")\n",
        "    city = input(\"City: \") or IPL_CITIES[0]\n",
        "\n",
        "    if batting_team not in IPL_TEAMS or bowling_team not in IPL_TEAMS or city not in IPL_CITIES:\n",
        "        print(\"Invalid input. Using defaults.\")\n",
        "        batting_team, bowling_team, city = IPL_TEAMS[0], IPL_TEAMS[1], IPL_CITIES[0]\n",
        "    if batting_team == bowling_team:\n",
        "        bowling_team = IPL_TEAMS[1] if batting_team == IPL_TEAMS[0] else IPL_TEAMS[0]\n",
        "\n",
        "    # Predict\n",
        "    input_data = prepare_input_data(runs_left, balls_left, wickets_remaining, total_run_x, crr, rrr, batting_team, bowling_team, city, scaler)\n",
        "    input_scaled = scaler.transform(input_data)\n",
        "    probability = model.predict(input_scaled, verbose=0)[0][0]\n",
        "    prediction = 1 if probability > 0.5 else 0\n",
        "\n",
        "    # Display result\n",
        "    display(HTML('<div class=\"prediction-box\">'))\n",
        "    if prediction == 1:\n",
        "        display(HTML(f'<p class=\"prediction-result\">{batting_team} wins with {probability*100:.2f}% probability</p>'))\n",
        "    else:\n",
        "        display(HTML(f'<p class=\"prediction-result\">{bowling_team} wins with {(1-probability)*100:.2f}% probability</p>'))\n",
        "    print(f\"Match Summary: {batting_team} vs {bowling_team} at {city}\")\n",
        "    print(f\"Target: {total_run_x}, Score: {current_score}/{10-wickets_remaining}, Overs: {20-overs_completed:.1f}/20\")\n",
        "    display(HTML('</div>'))\n",
        "\n",
        "if __name__ == '__main__':\n",
        "    neural_network_interface()"
      ],
      "metadata": {
        "colab": {
          "base_uri": "https://localhost:8080/",
          "height": 844
        },
        "id": "5vt4aLdiGu0P",
        "outputId": "ac6d808f-ffeb-44bb-f544-045a8bcb8eb6"
      },
      "execution_count": null,
      "outputs": [
        {
          "output_type": "stream",
          "name": "stderr",
          "text": [
            "WARNING:absl:Compiled the loaded model, but the compiled metrics have yet to be built. `model.compile_metrics` will be empty until you train or evaluate the model.\n"
          ]
        },
        {
          "output_type": "stream",
          "name": "stdout",
          "text": [
            "Drive already mounted at /content/drive; to attempt to forcibly remount, call drive.mount(\"/content/drive\", force_remount=True).\n",
            "Neural Network model and scaler loaded.\n",
            "Expected features: ['runs_left' 'balls_left' 'wickets_remaining' 'total_run_x' 'crr' 'rrr'\n",
            " 'batting_team_Delhi Capitals' 'batting_team_Gujarat Titans'\n",
            " 'batting_team_Kolkata Knight Riders' 'batting_team_Lucknow Super Giants'\n",
            " 'batting_team_Mumbai Indians' 'batting_team_Punjab Kings'\n",
            " 'batting_team_Rajasthan Royals'\n",
            " 'batting_team_Royal Challengers Bangalore'\n",
            " 'batting_team_Sunrisers Hyderabad' 'bowling_team_Delhi Capitals'\n",
            " 'bowling_team_Gujarat Titans' 'bowling_team_Kolkata Knight Riders'\n",
            " 'bowling_team_Lucknow Super Giants' 'bowling_team_Mumbai Indians'\n",
            " 'bowling_team_Punjab Kings' 'bowling_team_Rajasthan Royals'\n",
            " 'bowling_team_Royal Challengers Bangalore'\n",
            " 'bowling_team_Sunrisers Hyderabad' 'city_Bengaluru' 'city_Chennai'\n",
            " 'city_Delhi' 'city_Dharamsala' 'city_Guwahati' 'city_Hyderabad'\n",
            " 'city_Jaipur' 'city_Kolkata' 'city_Lucknow'\n",
            " 'city_Mullanpur/New Chandigarh' 'city_Mumbai' 'city_Visakhapatnam']\n"
          ]
        },
        {
          "output_type": "display_data",
          "data": {
            "text/plain": [
              "<IPython.core.display.HTML object>"
            ],
            "text/html": [
              "\n",
              "    <style>\n",
              "        .main-header { color: #0066cc; text-align: center; font-size: 32px; font-weight: bold; margin-bottom: 20px; }\n",
              "        .sub-header { color: #0066cc; font-size: 20px; font-weight: bold; margin: 20px 0 10px; }\n",
              "        .prediction-box { background-color: #e6f0ff; border-radius: 10px; padding: 15px; margin: 10px 0; }\n",
              "        .prediction-result { font-size: 20px; font-weight: bold; color: #006600; text-align: center; }\n",
              "    </style>\n",
              "    "
            ]
          },
          "metadata": {}
        },
        {
          "output_type": "display_data",
          "data": {
            "text/plain": [
              "<IPython.core.display.HTML object>"
            ],
            "text/html": [
              "<h1 class=\"main-header\">Neural Network IPL Predictor</h1>"
            ]
          },
          "metadata": {}
        },
        {
          "output_type": "display_data",
          "data": {
            "text/plain": [
              "<IPython.core.display.HTML object>"
            ],
            "text/html": [
              "<h2 class=\"sub-header\">Match Situation</h2>"
            ]
          },
          "metadata": {}
        },
        {
          "output_type": "stream",
          "name": "stdout",
          "text": [
            "Runs Left (0-300): 100\n",
            "Balls Left (0-120): 55\n",
            "Wickets Remaining (0-10): 5\n",
            "Target Score (0-300): 212\n",
            "\n",
            "Current Run Rate: 10.34\n",
            "Required Run Rate: 10.91\n"
          ]
        },
        {
          "output_type": "display_data",
          "data": {
            "text/plain": [
              "<IPython.core.display.HTML object>"
            ],
            "text/html": [
              "<h2 class=\"sub-header\">Select Teams and City</h2>"
            ]
          },
          "metadata": {}
        },
        {
          "name": "stdout",
          "output_type": "stream",
          "text": [
            "Teams: ['Delhi Capitals', 'Gujarat Titans', 'Kolkata Knight Riders', 'Lucknow Super Giants', 'Mumbai Indians', 'Chennai Super Kings', 'Royal Challengers Bangalore', 'Sunrisers Hyderabad', 'Punjab Kings', 'Rajasthan Royals']\n",
            "Batting Team: Mumbai Indians\n",
            "Bowling Team: Chennai Super Kings\n",
            "Cities: ['Bengaluru', 'Chennai', 'Delhi', 'Dharamsala', 'Guwahati', 'Mumbai', 'Kolkata', 'Hyderabad', 'Jaipur', 'Mullanpur/New Chandigarh', 'Visakhapatnam']\n",
            "City: Chennai\n"
          ]
        },
        {
          "output_type": "display_data",
          "data": {
            "text/plain": [
              "<IPython.core.display.HTML object>"
            ],
            "text/html": [
              "<div class=\"prediction-box\">"
            ]
          },
          "metadata": {}
        },
        {
          "output_type": "display_data",
          "data": {
            "text/plain": [
              "<IPython.core.display.HTML object>"
            ],
            "text/html": [
              "<p class=\"prediction-result\">Chennai Super Kings wins with 100.00% probability</p>"
            ]
          },
          "metadata": {}
        },
        {
          "output_type": "stream",
          "name": "stdout",
          "text": [
            "Match Summary: Mumbai Indians vs Chennai Super Kings at Chennai\n",
            "Target: 212.0, Score: 112.0/5, Overs: 9.2/20\n"
          ]
        },
        {
          "output_type": "display_data",
          "data": {
            "text/plain": [
              "<IPython.core.display.HTML object>"
            ],
            "text/html": [
              "</div>"
            ]
          },
          "metadata": {}
        }
      ]
    },
    {
      "cell_type": "markdown",
      "source": [
        "*The model’s raw output probabilities might not be well-calibrated. Neural Networks with a sigmoid output (like yours) can produce extreme values (e.g., 0.9999 or 0.0001), which get rounded to 100% or 0%.*"
      ],
      "metadata": {
        "id": "Xo6KDAapIX6E"
      }
    },
    {
      "cell_type": "markdown",
      "source": [
        "**2. Predictions using random forest**"
      ],
      "metadata": {
        "id": "Ja8hTD2HLxjb"
      }
    },
    {
      "cell_type": "code",
      "source": [
        "import pandas as pd\n",
        "import numpy as np\n",
        "import joblib\n",
        "from google.colab import drive\n",
        "from IPython.display import display, HTML\n",
        "import os\n",
        "\n",
        "# Mount Google Drive\n",
        "drive.mount('/content/drive')\n",
        "\n",
        "# Apply CSS styling\n",
        "def apply_css():\n",
        "    display(HTML(\"\"\"\n",
        "    <style>\n",
        "        .main-header { color: #0066cc; text-align: center; font-size: 32px; font-weight: bold; margin-bottom: 20px; }\n",
        "        .sub-header { color: #0066cc; font-size: 20px; font-weight: bold; margin: 20px 0 10px; }\n",
        "        .prediction-box { background-color: #e6f0ff; border-radius: 10px; padding: 15px; margin: 10px 0; }\n",
        "        .prediction-result { font-size: 20px; font-weight: bold; color: #006600; text-align: center; }\n",
        "    </style>\n",
        "    \"\"\"))\n",
        "\n",
        "# Load model and scaler\n",
        "drive_path = '/content/drive/MyDrive/IPL match winner models'\n",
        "model_path = os.path.join(drive_path, 'random_forest_model.pkl')\n",
        "scaler_path = os.path.join(drive_path, 'scaler.joblib')\n",
        "\n",
        "if os.path.exists(model_path) and os.path.exists(scaler_path):\n",
        "    model = joblib.load(model_path)\n",
        "    scaler = joblib.load(scaler_path)\n",
        "    print(\"Random Forest model and scaler loaded.\")\n",
        "    print(\"Expected features:\", scaler.feature_names_in_)\n",
        "else:\n",
        "    print(\"Model or scaler not found. Please train the model first.\")\n",
        "    model, scaler = None, None\n",
        "\n",
        "# Define teams and cities\n",
        "IPL_TEAMS = ['Delhi Capitals', 'Gujarat Titans', 'Kolkata Knight Riders', 'Lucknow Super Giants',\n",
        "             'Mumbai Indians', 'Chennai Super Kings', 'Royal Challengers Bangalore',\n",
        "             'Sunrisers Hyderabad', 'Punjab Kings', 'Rajasthan Royals']\n",
        "IPL_CITIES = ['Bengaluru', 'Chennai', 'Delhi', 'Dharamsala', 'Guwahati', 'Mumbai', 'Kolkata',\n",
        "              'Hyderabad', 'Jaipur', 'Mullanpur/New Chandigarh', 'Visakhapatnam']\n",
        "\n",
        "# Prepare input data\n",
        "def prepare_input_data(runs_left, balls_left, wickets_remaining, total_run_x, crr, rrr, batting_team, bowling_team, city, scaler):\n",
        "    data = {'runs_left': [runs_left], 'balls_left': [balls_left], 'wickets_remaining': [wickets_remaining],\n",
        "            'total_run_x': [total_run_x], 'crr': [crr], 'rrr': [rrr]}\n",
        "    input_df = pd.DataFrame(data)\n",
        "\n",
        "    for team in IPL_TEAMS:\n",
        "        input_df[f'batting_team_{team}'] = [1 if team == batting_team else 0]\n",
        "        input_df[f'bowling_team_{team}'] = [1 if team == bowling_team else 0]\n",
        "    for city_name in IPL_CITIES:\n",
        "        input_df[f'city_{city_name}'] = [1 if city_name == city else 0]\n",
        "\n",
        "    expected_features = scaler.feature_names_in_\n",
        "    missing_features = [feat for feat in expected_features if feat not in input_df.columns]\n",
        "    for feat in missing_features:\n",
        "        input_df[feat] = 0\n",
        "    input_df = input_df[expected_features]\n",
        "    return input_df\n",
        "\n",
        "# Main interface\n",
        "def random_forest_interface():\n",
        "    apply_css()\n",
        "    display(HTML('<h1 class=\"main-header\">Random Forest IPL Predictor</h1>'))\n",
        "    if not model or not scaler:\n",
        "        print(\"Cannot proceed without model and scaler.\")\n",
        "        return\n",
        "\n",
        "    # Inputs\n",
        "    display(HTML('<h2 class=\"sub-header\">Match Situation</h2>'))\n",
        "    runs_left = float(input(\"Runs Left (0-300): \") or 100)\n",
        "    balls_left = float(input(\"Balls Left (0-120): \") or 60)\n",
        "    wickets_remaining = int(input(\"Wickets Remaining (0-10): \") or 7)\n",
        "    total_run_x = float(input(\"Target Score (0-300): \") or 180)\n",
        "\n",
        "    current_score = total_run_x - runs_left\n",
        "    overs_completed = 20 - (balls_left / 6)\n",
        "    crr = current_score / overs_completed if overs_completed > 0 else 0\n",
        "    rrr = (runs_left * 6) / balls_left if balls_left > 0 else 0\n",
        "    print(f\"\\nCurrent Run Rate: {crr:.2f}\")\n",
        "    print(f\"Required Run Rate: {rrr:.2f}\")\n",
        "\n",
        "    display(HTML('<h2 class=\"sub-header\">Select Teams and City</h2>'))\n",
        "    print(f\"Teams: {IPL_TEAMS}\")\n",
        "    batting_team = input(\"Batting Team: \") or IPL_TEAMS[0]\n",
        "    bowling_team = input(\"Bowling Team: \") or IPL_TEAMS[1]\n",
        "    print(f\"Cities: {IPL_CITIES}\")\n",
        "    city = input(\"City: \") or IPL_CITIES[0]\n",
        "\n",
        "    if batting_team not in IPL_TEAMS or bowling_team not in IPL_TEAMS or city not in IPL_CITIES:\n",
        "        print(\"Invalid input. Using defaults.\")\n",
        "        batting_team, bowling_team, city = IPL_TEAMS[0], IPL_TEAMS[1], IPL_CITIES[0]\n",
        "    if batting_team == bowling_team:\n",
        "        bowling_team = IPL_TEAMS[1] if batting_team == IPL_TEAMS[0] else IPL_TEAMS[0]\n",
        "\n",
        "    # Predict\n",
        "    input_data = prepare_input_data(runs_left, balls_left, wickets_remaining, total_run_x, crr, rrr, batting_team, bowling_team, city, scaler)\n",
        "    input_scaled = scaler.transform(input_data)\n",
        "    prediction = model.predict(input_scaled)[0]\n",
        "    probability = model.predict_proba(input_scaled)[0][1] if prediction == 1 else model.predict_proba(input_scaled)[0][0]\n",
        "\n",
        "    # Display result\n",
        "    display(HTML('<div class=\"prediction-box\">'))\n",
        "    if prediction == 1:\n",
        "        display(HTML(f'<p class=\"prediction-result\">{batting_team} wins with {probability*100:.2f}% probability</p>'))\n",
        "    else:\n",
        "        display(HTML(f'<p class=\"prediction-result\">{bowling_team} wins with {(1-probability)*100:.2f}% probability</p>'))\n",
        "    print(f\"Match Summary: {batting_team} vs {bowling_team} at {city}\")\n",
        "    print(f\"Target: {total_run_x}, Score: {current_score}/{10-wickets_remaining}, Overs: {20-overs_completed:.1f}/20\")\n",
        "    display(HTML('</div>'))\n",
        "\n",
        "if __name__ == '__main__':\n",
        "    random_forest_interface()"
      ],
      "metadata": {
        "colab": {
          "base_uri": "https://localhost:8080/",
          "height": 827
        },
        "id": "OYzQxbECH2bX",
        "outputId": "156bc358-b159-47bc-8365-2c8e88225c2b"
      },
      "execution_count": null,
      "outputs": [
        {
          "output_type": "stream",
          "name": "stdout",
          "text": [
            "Drive already mounted at /content/drive; to attempt to forcibly remount, call drive.mount(\"/content/drive\", force_remount=True).\n",
            "Random Forest model and scaler loaded.\n",
            "Expected features: ['runs_left' 'balls_left' 'wickets_remaining' 'total_run_x' 'crr' 'rrr'\n",
            " 'batting_team_Delhi Capitals' 'batting_team_Gujarat Titans'\n",
            " 'batting_team_Kolkata Knight Riders' 'batting_team_Lucknow Super Giants'\n",
            " 'batting_team_Mumbai Indians' 'batting_team_Punjab Kings'\n",
            " 'batting_team_Rajasthan Royals'\n",
            " 'batting_team_Royal Challengers Bangalore'\n",
            " 'batting_team_Sunrisers Hyderabad' 'bowling_team_Delhi Capitals'\n",
            " 'bowling_team_Gujarat Titans' 'bowling_team_Kolkata Knight Riders'\n",
            " 'bowling_team_Lucknow Super Giants' 'bowling_team_Mumbai Indians'\n",
            " 'bowling_team_Punjab Kings' 'bowling_team_Rajasthan Royals'\n",
            " 'bowling_team_Royal Challengers Bangalore'\n",
            " 'bowling_team_Sunrisers Hyderabad' 'city_Bengaluru' 'city_Chennai'\n",
            " 'city_Delhi' 'city_Dharamsala' 'city_Guwahati' 'city_Hyderabad'\n",
            " 'city_Jaipur' 'city_Kolkata' 'city_Lucknow'\n",
            " 'city_Mullanpur/New Chandigarh' 'city_Mumbai' 'city_Visakhapatnam']\n"
          ]
        },
        {
          "output_type": "display_data",
          "data": {
            "text/plain": [
              "<IPython.core.display.HTML object>"
            ],
            "text/html": [
              "\n",
              "    <style>\n",
              "        .main-header { color: #0066cc; text-align: center; font-size: 32px; font-weight: bold; margin-bottom: 20px; }\n",
              "        .sub-header { color: #0066cc; font-size: 20px; font-weight: bold; margin: 20px 0 10px; }\n",
              "        .prediction-box { background-color: #e6f0ff; border-radius: 10px; padding: 15px; margin: 10px 0; }\n",
              "        .prediction-result { font-size: 20px; font-weight: bold; color: #006600; text-align: center; }\n",
              "    </style>\n",
              "    "
            ]
          },
          "metadata": {}
        },
        {
          "output_type": "display_data",
          "data": {
            "text/plain": [
              "<IPython.core.display.HTML object>"
            ],
            "text/html": [
              "<h1 class=\"main-header\">Random Forest IPL Predictor</h1>"
            ]
          },
          "metadata": {}
        },
        {
          "output_type": "display_data",
          "data": {
            "text/plain": [
              "<IPython.core.display.HTML object>"
            ],
            "text/html": [
              "<h2 class=\"sub-header\">Match Situation</h2>"
            ]
          },
          "metadata": {}
        },
        {
          "output_type": "stream",
          "name": "stdout",
          "text": [
            "Runs Left (0-300): 20\n",
            "Balls Left (0-120): 6\n",
            "Wickets Remaining (0-10): 5\n",
            "Target Score (0-300): 188\n",
            "\n",
            "Current Run Rate: 8.84\n",
            "Required Run Rate: 20.00\n"
          ]
        },
        {
          "output_type": "display_data",
          "data": {
            "text/plain": [
              "<IPython.core.display.HTML object>"
            ],
            "text/html": [
              "<h2 class=\"sub-header\">Select Teams and City</h2>"
            ]
          },
          "metadata": {}
        },
        {
          "name": "stdout",
          "output_type": "stream",
          "text": [
            "Teams: ['Delhi Capitals', 'Gujarat Titans', 'Kolkata Knight Riders', 'Lucknow Super Giants', 'Mumbai Indians', 'Chennai Super Kings', 'Royal Challengers Bangalore', 'Sunrisers Hyderabad', 'Punjab Kings', 'Rajasthan Royals']\n",
            "Batting Team: Delhi Capitals\n",
            "Bowling Team: Mumbai Indians\n",
            "Cities: ['Bengaluru', 'Chennai', 'Delhi', 'Dharamsala', 'Guwahati', 'Mumbai', 'Kolkata', 'Hyderabad', 'Jaipur', 'Mullanpur/New Chandigarh', 'Visakhapatnam']\n",
            "City: Delhi\n"
          ]
        },
        {
          "output_type": "display_data",
          "data": {
            "text/plain": [
              "<IPython.core.display.HTML object>"
            ],
            "text/html": [
              "<div class=\"prediction-box\">"
            ]
          },
          "metadata": {}
        },
        {
          "output_type": "display_data",
          "data": {
            "text/plain": [
              "<IPython.core.display.HTML object>"
            ],
            "text/html": [
              "<p class=\"prediction-result\">Mumbai Indians wins with 2.00% probability</p>"
            ]
          },
          "metadata": {}
        },
        {
          "output_type": "stream",
          "name": "stdout",
          "text": [
            "Match Summary: Delhi Capitals vs Mumbai Indians at Delhi\n",
            "Target: 188.0, Score: 168.0/5, Overs: 1.0/20\n"
          ]
        },
        {
          "output_type": "display_data",
          "data": {
            "text/plain": [
              "<IPython.core.display.HTML object>"
            ],
            "text/html": [
              "</div>"
            ]
          },
          "metadata": {}
        }
      ]
    },
    {
      "cell_type": "markdown",
      "source": [
        "**3. Predictions using XGBoost Predictor**"
      ],
      "metadata": {
        "id": "yJKxhSyDL_lb"
      }
    },
    {
      "cell_type": "code",
      "source": [
        "import pandas as pd\n",
        "import numpy as np\n",
        "import joblib\n",
        "from google.colab import drive\n",
        "from IPython.display import display, HTML\n",
        "import os\n",
        "\n",
        "# Mount Google Drive\n",
        "drive.mount('/content/drive')\n",
        "\n",
        "# Apply CSS styling\n",
        "def apply_css():\n",
        "    display(HTML(\"\"\"\n",
        "    <style>\n",
        "        .main-header { color: #0066cc; text-align: center; font-size: 32px; font-weight: bold; margin-bottom: 20px; }\n",
        "        .sub-header { color: #0066cc; font-size: 20px; font-weight: bold; margin: 20px 0 10px; }\n",
        "        .prediction-box { background-color: #e6f0ff; border-radius: 10px; padding: 15px; margin: 10px 0; }\n",
        "        .prediction-result { font-size: 20px; font-weight: bold; color: #006600; text-align: center; }\n",
        "    </style>\n",
        "    \"\"\"))\n",
        "\n",
        "# Load model and scaler\n",
        "drive_path = '/content/drive/MyDrive/IPL match winner models'\n",
        "model_path = os.path.join(drive_path, 'xgboost_model.pkl')\n",
        "scaler_path = os.path.join(drive_path, 'scaler.joblib')\n",
        "\n",
        "if os.path.exists(model_path) and os.path.exists(scaler_path):\n",
        "    model = joblib.load(model_path)\n",
        "    scaler = joblib.load(scaler_path)\n",
        "    print(\"XGBoost model and scaler loaded.\")\n",
        "    print(\"Expected features:\", scaler.feature_names_in_)\n",
        "else:\n",
        "    print(\"Model or scaler not found. Please train the model first.\")\n",
        "    model, scaler = None, None\n",
        "\n",
        "# Define teams and cities\n",
        "IPL_TEAMS = ['Delhi Capitals', 'Gujarat Titans', 'Kolkata Knight Riders', 'Lucknow Super Giants',\n",
        "             'Mumbai Indians', 'Chennai Super Kings', 'Royal Challengers Bangalore',\n",
        "             'Sunrisers Hyderabad', 'Punjab Kings', 'Rajasthan Royals']\n",
        "IPL_CITIES = ['Bengaluru', 'Chennai', 'Delhi', 'Dharamsala', 'Guwahati', 'Mumbai', 'Kolkata',\n",
        "              'Hyderabad', 'Jaipur', 'Mullanpur/New Chandigarh', 'Visakhapatnam']\n",
        "\n",
        "# Prepare input data\n",
        "def prepare_input_data(runs_left, balls_left, wickets_remaining, total_run_x, crr, rrr, batting_team, bowling_team, city, scaler):\n",
        "    data = {'runs_left': [runs_left], 'balls_left': [balls_left], 'wickets_remaining': [wickets_remaining],\n",
        "            'total_run_x': [total_run_x], 'crr': [crr], 'rrr': [rrr]}\n",
        "    input_df = pd.DataFrame(data)\n",
        "\n",
        "    for team in IPL_TEAMS:\n",
        "        input_df[f'batting_team_{team}'] = [1 if team == batting_team else 0]\n",
        "        input_df[f'bowling_team_{team}'] = [1 if team == bowling_team else 0]\n",
        "    for city_name in IPL_CITIES:\n",
        "        input_df[f'city_{city_name}'] = [1 if city_name == city else 0]\n",
        "\n",
        "    expected_features = scaler.feature_names_in_\n",
        "    missing_features = [feat for feat in expected_features if feat not in input_df.columns]\n",
        "    for feat in missing_features:\n",
        "        input_df[feat] = 0\n",
        "    input_df = input_df[expected_features]\n",
        "    return input_df\n",
        "\n",
        "# Main interface\n",
        "def xgboost_interface():\n",
        "    apply_css()\n",
        "    display(HTML('<h1 class=\"main-header\">XGBoost IPL Predictor</h1>'))\n",
        "    if not model or not scaler:\n",
        "        print(\"Cannot proceed without model and scaler.\")\n",
        "        return\n",
        "\n",
        "    # Inputs\n",
        "    display(HTML('<h2 class=\"sub-header\">Match Situation</h2>'))\n",
        "    runs_left = float(input(\"Runs Left (0-300): \") or 100)\n",
        "    balls_left = float(input(\"Balls Left (0-120): \") or 60)\n",
        "    wickets_remaining = int(input(\"Wickets Remaining (0-10): \") or 7)\n",
        "    total_run_x = float(input(\"Target Score (0-300): \") or 180)\n",
        "\n",
        "    current_score = total_run_x - runs_left\n",
        "    overs_completed = 20 - (balls_left / 6)\n",
        "    crr = current_score / overs_completed if overs_completed > 0 else 0\n",
        "    rrr = (runs_left * 6) / balls_left if balls_left > 0 else 0\n",
        "    print(f\"\\nCurrent Run Rate: {crr:.2f}\")\n",
        "    print(f\"Required Run Rate: {rrr:.2f}\")\n",
        "\n",
        "    display(HTML('<h2 class=\"sub-header\">Select Teams and City</h2>'))\n",
        "    print(f\"Teams: {IPL_TEAMS}\")\n",
        "    batting_team = input(\"Batting Team: \") or IPL_TEAMS[0]\n",
        "    bowling_team = input(\"Bowling Team: \") or IPL_TEAMS[1]\n",
        "    print(f\"Cities: {IPL_CITIES}\")\n",
        "    city = input(\"City: \") or IPL_CITIES[0]\n",
        "\n",
        "    if batting_team not in IPL_TEAMS or bowling_team not in IPL_TEAMS or city not in IPL_CITIES:\n",
        "        print(\"Invalid input. Using defaults.\")\n",
        "        batting_team, bowling_team, city = IPL_TEAMS[0], IPL_TEAMS[1], IPL_CITIES[0]\n",
        "    if batting_team == bowling_team:\n",
        "        bowling_team = IPL_TEAMS[1] if batting_team == IPL_TEAMS[0] else IPL_TEAMS[0]\n",
        "\n",
        "    # Predict\n",
        "    input_data = prepare_input_data(runs_left, balls_left, wickets_remaining, total_run_x, crr, rrr, batting_team, bowling_team, city, scaler)\n",
        "    input_scaled = scaler.transform(input_data)\n",
        "    prediction = model.predict(input_scaled)[0]\n",
        "    probability = model.predict_proba(input_scaled)[0][1] if prediction == 1 else model.predict_proba(input_scaled)[0][0]\n",
        "\n",
        "    # Display result\n",
        "    display(HTML('<div class=\"prediction-box\">'))\n",
        "    if prediction == 1:\n",
        "        display(HTML(f'<p class=\"prediction-result\">{batting_team} wins with {probability*100:.2f}% probability</p>'))\n",
        "    else:\n",
        "        display(HTML(f'<p class=\"prediction-result\">{bowling_team} wins with {(1-probability)*100:.2f}% probability</p>'))\n",
        "    print(f\"Match Summary: {batting_team} vs {bowling_team} at {city}\")\n",
        "    print(f\"Target: {total_run_x}, Score: {current_score}/{10-wickets_remaining}, Overs: {20-overs_completed:.1f}/20\")\n",
        "    display(HTML('</div>'))\n",
        "\n",
        "if __name__ == '__main__':\n",
        "    xgboost_interface()"
      ],
      "metadata": {
        "colab": {
          "base_uri": "https://localhost:8080/",
          "height": 827
        },
        "id": "pPP8OGD5IeXe",
        "outputId": "b402effc-1072-4f0a-e5d0-ba5d125c0464"
      },
      "execution_count": null,
      "outputs": [
        {
          "output_type": "stream",
          "name": "stdout",
          "text": [
            "Drive already mounted at /content/drive; to attempt to forcibly remount, call drive.mount(\"/content/drive\", force_remount=True).\n",
            "XGBoost model and scaler loaded.\n",
            "Expected features: ['runs_left' 'balls_left' 'wickets_remaining' 'total_run_x' 'crr' 'rrr'\n",
            " 'batting_team_Delhi Capitals' 'batting_team_Gujarat Titans'\n",
            " 'batting_team_Kolkata Knight Riders' 'batting_team_Lucknow Super Giants'\n",
            " 'batting_team_Mumbai Indians' 'batting_team_Punjab Kings'\n",
            " 'batting_team_Rajasthan Royals'\n",
            " 'batting_team_Royal Challengers Bangalore'\n",
            " 'batting_team_Sunrisers Hyderabad' 'bowling_team_Delhi Capitals'\n",
            " 'bowling_team_Gujarat Titans' 'bowling_team_Kolkata Knight Riders'\n",
            " 'bowling_team_Lucknow Super Giants' 'bowling_team_Mumbai Indians'\n",
            " 'bowling_team_Punjab Kings' 'bowling_team_Rajasthan Royals'\n",
            " 'bowling_team_Royal Challengers Bangalore'\n",
            " 'bowling_team_Sunrisers Hyderabad' 'city_Bengaluru' 'city_Chennai'\n",
            " 'city_Delhi' 'city_Dharamsala' 'city_Guwahati' 'city_Hyderabad'\n",
            " 'city_Jaipur' 'city_Kolkata' 'city_Lucknow'\n",
            " 'city_Mullanpur/New Chandigarh' 'city_Mumbai' 'city_Visakhapatnam']\n"
          ]
        },
        {
          "output_type": "display_data",
          "data": {
            "text/plain": [
              "<IPython.core.display.HTML object>"
            ],
            "text/html": [
              "\n",
              "    <style>\n",
              "        .main-header { color: #0066cc; text-align: center; font-size: 32px; font-weight: bold; margin-bottom: 20px; }\n",
              "        .sub-header { color: #0066cc; font-size: 20px; font-weight: bold; margin: 20px 0 10px; }\n",
              "        .prediction-box { background-color: #e6f0ff; border-radius: 10px; padding: 15px; margin: 10px 0; }\n",
              "        .prediction-result { font-size: 20px; font-weight: bold; color: #006600; text-align: center; }\n",
              "    </style>\n",
              "    "
            ]
          },
          "metadata": {}
        },
        {
          "output_type": "display_data",
          "data": {
            "text/plain": [
              "<IPython.core.display.HTML object>"
            ],
            "text/html": [
              "<h1 class=\"main-header\">XGBoost IPL Predictor</h1>"
            ]
          },
          "metadata": {}
        },
        {
          "output_type": "display_data",
          "data": {
            "text/plain": [
              "<IPython.core.display.HTML object>"
            ],
            "text/html": [
              "<h2 class=\"sub-header\">Match Situation</h2>"
            ]
          },
          "metadata": {}
        },
        {
          "output_type": "stream",
          "name": "stdout",
          "text": [
            "Runs Left (0-300): 114\n",
            "Balls Left (0-120): 60\n",
            "Wickets Remaining (0-10): 8\n",
            "Target Score (0-300): 200\n",
            "\n",
            "Current Run Rate: 8.60\n",
            "Required Run Rate: 11.40\n"
          ]
        },
        {
          "output_type": "display_data",
          "data": {
            "text/plain": [
              "<IPython.core.display.HTML object>"
            ],
            "text/html": [
              "<h2 class=\"sub-header\">Select Teams and City</h2>"
            ]
          },
          "metadata": {}
        },
        {
          "name": "stdout",
          "output_type": "stream",
          "text": [
            "Teams: ['Delhi Capitals', 'Gujarat Titans', 'Kolkata Knight Riders', 'Lucknow Super Giants', 'Mumbai Indians', 'Chennai Super Kings', 'Royal Challengers Bangalore', 'Sunrisers Hyderabad', 'Punjab Kings', 'Rajasthan Royals']\n",
            "Batting Team: Mumbai Indians\n",
            "Bowling Team: Kolkata Knight Riders\n",
            "Cities: ['Bengaluru', 'Chennai', 'Delhi', 'Dharamsala', 'Guwahati', 'Mumbai', 'Kolkata', 'Hyderabad', 'Jaipur', 'Mullanpur/New Chandigarh', 'Visakhapatnam']\n",
            "City: Kolkata\n"
          ]
        },
        {
          "output_type": "display_data",
          "data": {
            "text/plain": [
              "<IPython.core.display.HTML object>"
            ],
            "text/html": [
              "<div class=\"prediction-box\">"
            ]
          },
          "metadata": {}
        },
        {
          "output_type": "display_data",
          "data": {
            "text/plain": [
              "<IPython.core.display.HTML object>"
            ],
            "text/html": [
              "<p class=\"prediction-result\">Kolkata Knight Riders wins with 24.08% probability</p>"
            ]
          },
          "metadata": {}
        },
        {
          "output_type": "stream",
          "name": "stdout",
          "text": [
            "Match Summary: Mumbai Indians vs Kolkata Knight Riders at Kolkata\n",
            "Target: 200.0, Score: 86.0/2, Overs: 10.0/20\n"
          ]
        },
        {
          "output_type": "display_data",
          "data": {
            "text/plain": [
              "<IPython.core.display.HTML object>"
            ],
            "text/html": [
              "</div>"
            ]
          },
          "metadata": {}
        }
      ]
    },
    {
      "cell_type": "markdown",
      "source": [
        "**5. Predictions using Logistic Regression**"
      ],
      "metadata": {
        "id": "96nVQ4YSMO8c"
      }
    },
    {
      "cell_type": "code",
      "source": [
        "import pandas as pd\n",
        "import numpy as np\n",
        "import joblib\n",
        "from google.colab import drive\n",
        "from IPython.display import display, HTML\n",
        "import os\n",
        "\n",
        "# Mount Google Drive\n",
        "drive.mount('/content/drive')\n",
        "\n",
        "# Apply CSS styling\n",
        "def apply_css():\n",
        "    display(HTML(\"\"\"\n",
        "    <style>\n",
        "        .main-header { color: #0066cc; text-align: center; font-size: 32px; font-weight: bold; margin-bottom: 20px; }\n",
        "        .sub-header { color: #0066cc; font-size: 20px; font-weight: bold; margin: 20px 0 10px; }\n",
        "        .prediction-box { background-color: #e6f0ff; border-radius: 10px; padding: 15px; margin: 10px 0; }\n",
        "        .prediction-result { font-size: 20px; font-weight: bold; color: #006600; text-align: center; }\n",
        "    </style>\n",
        "    \"\"\"))\n",
        "\n",
        "# Load model and scaler\n",
        "drive_path = '/content/drive/MyDrive/IPL match winner models'\n",
        "model_path = os.path.join(drive_path, 'logistic_regression_model.pkl')\n",
        "scaler_path = os.path.join(drive_path, 'scaler.joblib')\n",
        "\n",
        "if os.path.exists(model_path) and os.path.exists(scaler_path):\n",
        "    model = joblib.load(model_path)\n",
        "    scaler = joblib.load(scaler_path)\n",
        "    print(\"Logistic Regression model and scaler loaded.\")\n",
        "    print(\"Expected features:\", scaler.feature_names_in_)\n",
        "else:\n",
        "    print(\"Model or scaler not found. Please train the model first.\")\n",
        "    model, scaler = None, None\n",
        "\n",
        "# Define teams and cities\n",
        "IPL_TEAMS = ['Delhi Capitals', 'Gujarat Titans', 'Kolkata Knight Riders', 'Lucknow Super Giants',\n",
        "             'Mumbai Indians', 'Chennai Super Kings', 'Royal Challengers Bangalore',\n",
        "             'Sunrisers Hyderabad', 'Punjab Kings', 'Rajasthan Royals']\n",
        "IPL_CITIES = ['Bengaluru', 'Chennai', 'Delhi', 'Dharamsala', 'Guwahati', 'Mumbai', 'Kolkata',\n",
        "              'Hyderabad', 'Jaipur', 'Mullanpur/New Chandigarh', 'Visakhapatnam']\n",
        "\n",
        "# Prepare input data\n",
        "def prepare_input_data(runs_left, balls_left, wickets_remaining, total_run_x, crr, rrr, batting_team, bowling_team, city, scaler):\n",
        "    data = {'runs_left': [runs_left], 'balls_left': [balls_left], 'wickets_remaining': [wickets_remaining],\n",
        "            'total_run_x': [total_run_x], 'crr': [crr], 'rrr': [rrr]}\n",
        "    input_df = pd.DataFrame(data)\n",
        "\n",
        "    for team in IPL_TEAMS:\n",
        "        input_df[f'batting_team_{team}'] = [1 if team == batting_team else 0]\n",
        "        input_df[f'bowling_team_{team}'] = [1 if team == bowling_team else 0]\n",
        "    for city_name in IPL_CITIES:\n",
        "        input_df[f'city_{city_name}'] = [1 if city_name == city else 0]\n",
        "\n",
        "    expected_features = scaler.feature_names_in_\n",
        "    missing_features = [feat for feat in expected_features if feat not in input_df.columns]\n",
        "    for feat in missing_features:\n",
        "        input_df[feat] = 0\n",
        "    input_df = input_df[expected_features]\n",
        "    return input_df\n",
        "\n",
        "# Main interface\n",
        "def logistic_regression_interface():\n",
        "    apply_css()\n",
        "    display(HTML('<h1 class=\"main-header\">Logistic Regression IPL Predictor</h1>'))\n",
        "    if not model or not scaler:\n",
        "        print(\"Cannot proceed without model and scaler.\")\n",
        "        return\n",
        "\n",
        "    # Inputs\n",
        "    display(HTML('<h2 class=\"sub-header\">Match Situation</h2>'))\n",
        "    runs_left = float(input(\"Runs Left (0-300): \") or 100)\n",
        "    balls_left = float(input(\"Balls Left (0-120): \") or 60)\n",
        "    wickets_remaining = int(input(\"Wickets Remaining (0-10): \") or 7)\n",
        "    total_run_x = float(input(\"Target Score (0-300): \") or 180)\n",
        "\n",
        "    current_score = total_run_x - runs_left\n",
        "    overs_completed = 20 - (balls_left / 6)\n",
        "    crr = current_score / overs_completed if overs_completed > 0 else 0\n",
        "    rrr = (runs_left * 6) / balls_left if balls_left > 0 else 0\n",
        "    print(f\"\\nCurrent Run Rate: {crr:.2f}\")\n",
        "    print(f\"Required Run Rate: {rrr:.2f}\")\n",
        "\n",
        "    display(HTML('<h2 class=\"sub-header\">Select Teams and City</h2>'))\n",
        "    print(f\"Teams: {IPL_TEAMS}\")\n",
        "    batting_team = input(\"Batting Team: \") or IPL_TEAMS[0]\n",
        "    bowling_team = input(\"Bowling Team: \") or IPL_TEAMS[1]\n",
        "    print(f\"Cities: {IPL_CITIES}\")\n",
        "    city = input(\"City: \") or IPL_CITIES[0]\n",
        "\n",
        "    if batting_team not in IPL_TEAMS or bowling_team not in IPL_TEAMS or city not in IPL_CITIES:\n",
        "        print(\"Invalid input. Using defaults.\")\n",
        "        batting_team, bowling_team, city = IPL_TEAMS[0], IPL_TEAMS[1], IPL_CITIES[0]\n",
        "    if batting_team == bowling_team:\n",
        "        bowling_team = IPL_TEAMS[1] if batting_team == IPL_TEAMS[0] else IPL_TEAMS[0]\n",
        "\n",
        "    # Predict\n",
        "    input_data = prepare_input_data(runs_left, balls_left, wickets_remaining, total_run_x, crr, rrr, batting_team, bowling_team, city, scaler)\n",
        "    input_scaled = scaler.transform(input_data)\n",
        "    prediction = model.predict(input_scaled)[0]\n",
        "    probability = model.predict_proba(input_scaled)[0][1] if prediction == 1 else model.predict_proba(input_scaled)[0][0]\n",
        "\n",
        "    # Display result\n",
        "    display(HTML('<div class=\"prediction-box\">'))\n",
        "    if prediction == 1:\n",
        "        display(HTML(f'<p class=\"prediction-result\">{batting_team} wins with {probability*100:.2f}% probability</p>'))\n",
        "    else:\n",
        "        display(HTML(f'<p class=\"prediction-result\">{bowling_team} wins with {(1-probability)*100:.2f}% probability</p>'))\n",
        "    print(f\"Match Summary: {batting_team} vs {bowling_team} at {city}\")\n",
        "    print(f\"Target: {total_run_x}, Score: {current_score}/{10-wickets_remaining}, Overs: {20-overs_completed:.1f}/20\")\n",
        "    display(HTML('</div>'))\n",
        "\n",
        "if __name__ == '__main__':\n",
        "    logistic_regression_interface()"
      ],
      "metadata": {
        "colab": {
          "base_uri": "https://localhost:8080/",
          "height": 844
        },
        "id": "uq0CFf7II3Aa",
        "outputId": "72e5d99e-a18e-4691-9e62-08d5aedce898"
      },
      "execution_count": null,
      "outputs": [
        {
          "output_type": "stream",
          "name": "stdout",
          "text": [
            "Drive already mounted at /content/drive; to attempt to forcibly remount, call drive.mount(\"/content/drive\", force_remount=True).\n",
            "Logistic Regression model and scaler loaded.\n",
            "Expected features: ['runs_left' 'balls_left' 'wickets_remaining' 'total_run_x' 'crr' 'rrr'\n",
            " 'batting_team_Delhi Capitals' 'batting_team_Gujarat Titans'\n",
            " 'batting_team_Kolkata Knight Riders' 'batting_team_Lucknow Super Giants'\n",
            " 'batting_team_Mumbai Indians' 'batting_team_Punjab Kings'\n",
            " 'batting_team_Rajasthan Royals'\n",
            " 'batting_team_Royal Challengers Bangalore'\n",
            " 'batting_team_Sunrisers Hyderabad' 'bowling_team_Delhi Capitals'\n",
            " 'bowling_team_Gujarat Titans' 'bowling_team_Kolkata Knight Riders'\n",
            " 'bowling_team_Lucknow Super Giants' 'bowling_team_Mumbai Indians'\n",
            " 'bowling_team_Punjab Kings' 'bowling_team_Rajasthan Royals'\n",
            " 'bowling_team_Royal Challengers Bangalore'\n",
            " 'bowling_team_Sunrisers Hyderabad' 'city_Bengaluru' 'city_Chennai'\n",
            " 'city_Delhi' 'city_Dharamsala' 'city_Guwahati' 'city_Hyderabad'\n",
            " 'city_Jaipur' 'city_Kolkata' 'city_Lucknow'\n",
            " 'city_Mullanpur/New Chandigarh' 'city_Mumbai' 'city_Visakhapatnam']\n"
          ]
        },
        {
          "output_type": "display_data",
          "data": {
            "text/plain": [
              "<IPython.core.display.HTML object>"
            ],
            "text/html": [
              "\n",
              "    <style>\n",
              "        .main-header { color: #0066cc; text-align: center; font-size: 32px; font-weight: bold; margin-bottom: 20px; }\n",
              "        .sub-header { color: #0066cc; font-size: 20px; font-weight: bold; margin: 20px 0 10px; }\n",
              "        .prediction-box { background-color: #e6f0ff; border-radius: 10px; padding: 15px; margin: 10px 0; }\n",
              "        .prediction-result { font-size: 20px; font-weight: bold; color: #006600; text-align: center; }\n",
              "    </style>\n",
              "    "
            ]
          },
          "metadata": {}
        },
        {
          "output_type": "display_data",
          "data": {
            "text/plain": [
              "<IPython.core.display.HTML object>"
            ],
            "text/html": [
              "<h1 class=\"main-header\">Logistic Regression IPL Predictor</h1>"
            ]
          },
          "metadata": {}
        },
        {
          "output_type": "display_data",
          "data": {
            "text/plain": [
              "<IPython.core.display.HTML object>"
            ],
            "text/html": [
              "<h2 class=\"sub-header\">Match Situation</h2>"
            ]
          },
          "metadata": {}
        },
        {
          "output_type": "stream",
          "name": "stdout",
          "text": [
            "Runs Left (0-300): 144\n",
            "Balls Left (0-120): 78\n",
            "Wickets Remaining (0-10): 9\n",
            "Target Score (0-300): 188\n",
            "\n",
            "Current Run Rate: 6.29\n",
            "Required Run Rate: 11.08\n"
          ]
        },
        {
          "output_type": "display_data",
          "data": {
            "text/plain": [
              "<IPython.core.display.HTML object>"
            ],
            "text/html": [
              "<h2 class=\"sub-header\">Select Teams and City</h2>"
            ]
          },
          "metadata": {}
        },
        {
          "output_type": "stream",
          "name": "stdout",
          "text": [
            "Teams: ['Delhi Capitals', 'Gujarat Titans', 'Kolkata Knight Riders', 'Lucknow Super Giants', 'Mumbai Indians', 'Chennai Super Kings', 'Royal Challengers Bangalore', 'Sunrisers Hyderabad', 'Punjab Kings', 'Rajasthan Royals']\n",
            "Batting Team: Chennai Super Kings\n",
            "Bowling Team: Gujrat Titans\n",
            "Cities: ['Bengaluru', 'Chennai', 'Delhi', 'Dharamsala', 'Guwahati', 'Mumbai', 'Kolkata', 'Hyderabad', 'Jaipur', 'Mullanpur/New Chandigarh', 'Visakhapatnam']\n",
            "City: Chennai\n",
            "Invalid input. Using defaults.\n"
          ]
        },
        {
          "output_type": "display_data",
          "data": {
            "text/plain": [
              "<IPython.core.display.HTML object>"
            ],
            "text/html": [
              "<div class=\"prediction-box\">"
            ]
          },
          "metadata": {}
        },
        {
          "output_type": "display_data",
          "data": {
            "text/plain": [
              "<IPython.core.display.HTML object>"
            ],
            "text/html": [
              "<p class=\"prediction-result\">Gujarat Titans wins with 10.85% probability</p>"
            ]
          },
          "metadata": {}
        },
        {
          "output_type": "stream",
          "name": "stdout",
          "text": [
            "Match Summary: Delhi Capitals vs Gujarat Titans at Bengaluru\n",
            "Target: 188.0, Score: 44.0/1, Overs: 13.0/20\n"
          ]
        },
        {
          "output_type": "display_data",
          "data": {
            "text/plain": [
              "<IPython.core.display.HTML object>"
            ],
            "text/html": [
              "</div>"
            ]
          },
          "metadata": {}
        }
      ]
    },
    {
      "cell_type": "code",
      "source": [],
      "metadata": {
        "id": "zrcN9ddOIfAh"
      },
      "execution_count": null,
      "outputs": []
    },
    {
      "cell_type": "code",
      "source": [
        "import pandas as pd\n",
        "import numpy as np\n",
        "import joblib\n",
        "from google.colab import drive\n",
        "from IPython.display import display, HTML\n",
        "import os\n",
        "\n",
        "# Mount Google Drive\n",
        "drive.mount('/content/drive')\n",
        "\n",
        "# Apply CSS styling\n",
        "def apply_css():\n",
        "    display(HTML(\"\"\"\n",
        "    <style>\n",
        "        .main-header { color: #0066cc; text-align: center; font-size: 32px; font-weight: bold; margin-bottom: 20px; }\n",
        "        .sub-header { color: #0066cc; font-size: 20px; font-weight: bold; margin: 20px 0 10px; }\n",
        "        .prediction-box { background-color: #e6f0ff; border-radius: 10px; padding: 15px; margin: 10px 0; }\n",
        "        .prediction-result { font-size: 20px; font-weight: bold; color: #006600; text-align: center; }\n",
        "    </style>\n",
        "    \"\"\"))\n",
        "\n",
        "# Load model and scaler\n",
        "drive_path = '/content/drive/MyDrive/IPL match winner models'\n",
        "model_path = os.path.join(drive_path, 'svm_model.pkl')\n",
        "scaler_path = os.path.join(drive_path, 'scaler.joblib')\n",
        "\n",
        "if os.path.exists(model_path) and os.path.exists(scaler_path):\n",
        "    model = joblib.load(model_path)\n",
        "    scaler = joblib.load(scaler_path)\n",
        "    print(\"SVM model and scaler loaded.\")\n",
        "    print(\"Expected features:\", scaler.feature_names_in_)\n",
        "else:\n",
        "    print(\"Model or scaler not found. Please train the model first.\")\n",
        "    model, scaler = None, None\n",
        "\n",
        "# Define teams and cities\n",
        "IPL_TEAMS = ['Delhi Capitals', 'Gujarat Titans', 'Kolkata Knight Riders', 'Lucknow Super Giants',\n",
        "             'Mumbai Indians', 'Chennai Super Kings', 'Royal Challengers Bangalore',\n",
        "             'Sunrisers Hyderabad', 'Punjab Kings', 'Rajasthan Royals']\n",
        "IPL_CITIES = ['Bengaluru', 'Chennai', 'Delhi', 'Dharamsala', 'Guwahati', 'Mumbai', 'Kolkata',\n",
        "              'Hyderabad', 'Jaipur', 'Mullanpur/New Chandigarh', 'Visakhapatnam']\n",
        "\n",
        "# Prepare input data\n",
        "def prepare_input_data(runs_left, balls_left, wickets_remaining, total_run_x, crr, rrr, batting_team, bowling_team, city, scaler):\n",
        "    data = {'runs_left': [runs_left], 'balls_left': [balls_left], 'wickets_remaining': [wickets_remaining],\n",
        "            'total_run_x': [total_run_x], 'crr': [crr], 'rrr': [rrr]}\n",
        "    input_df = pd.DataFrame(data)\n",
        "\n",
        "    for team in IPL_TEAMS:\n",
        "        input_df[f'batting_team_{team}'] = [1 if team == batting_team else 0]\n",
        "        input_df[f'bowling_team_{team}'] = [1 if team == bowling_team else 0]\n",
        "    for city_name in IPL_CITIES:\n",
        "        input_df[f'city_{city_name}'] = [1 if city_name == city else 0]\n",
        "\n",
        "    expected_features = scaler.feature_names_in_\n",
        "    missing_features = [feat for feat in expected_features if feat not in input_df.columns]\n",
        "    for feat in missing_features:\n",
        "        input_df[feat] = 0\n",
        "    input_df = input_df[expected_features]\n",
        "    return input_df\n",
        "\n",
        "# Main interface\n",
        "def svm_interface():\n",
        "    apply_css()\n",
        "    display(HTML('<h1 class=\"main-header\">SVM IPL Predictor</h1>'))\n",
        "    if not model or not scaler:\n",
        "        print(\"Cannot proceed without model and scaler.\")\n",
        "        return\n",
        "\n",
        "    # Inputs\n",
        "    display(HTML('<h2 class=\"sub-header\">Match Situation</h2>'))\n",
        "    runs_left = float(input(\"Runs Left (0-300): \") or 100)\n",
        "    balls_left = float(input(\"Balls Left (0-120): \") or 60)\n",
        "    wickets_remaining = int(input(\"Wickets Remaining (0-10): \") or 7)\n",
        "    total_run_x = float(input(\"Target Score (0-300): \") or 180)\n",
        "\n",
        "    current_score = total_run_x - runs_left\n",
        "    overs_completed = 20 - (balls_left / 6)\n",
        "    crr = current_score / overs_completed if overs_completed > 0 else 0\n",
        "    rrr = (runs_left * 6) / balls_left if balls_left > 0 else 0\n",
        "    print(f\"\\nCurrent Run Rate: {crr:.2f}\")\n",
        "    print(f\"Required Run Rate: {rrr:.2f}\")\n",
        "\n",
        "    display(HTML('<h2 class=\"sub-header\">Select Teams and City</h2>'))\n",
        "    print(f\"Teams: {IPL_TEAMS}\")\n",
        "    batting_team = input(\"Batting Team: \") or IPL_TEAMS[0]\n",
        "    bowling_team = input(\"Bowling Team: \") or IPL_TEAMS[1]\n",
        "    print(f\"Cities: {IPL_CITIES}\")\n",
        "    city = input(\"City: \") or IPL_CITIES[0]\n",
        "\n",
        "    if batting_team not in IPL_TEAMS or bowling_team not in IPL_TEAMS or city not in IPL_CITIES:\n",
        "        print(\"Invalid input. Using defaults.\")\n",
        "        batting_team, bowling_team, city = IPL_TEAMS[0], IPL_TEAMS[1], IPL_CITIES[0]\n",
        "    if batting_team == bowling_team:\n",
        "        bowling_team = IPL_TEAMS[1] if batting_team == IPL_TEAMS[0] else IPL_TEAMS[0]\n",
        "\n",
        "    # Predict\n",
        "    input_data = prepare_input_data(runs_left, balls_left, wickets_remaining, total_run_x, crr, rrr, batting_team, bowling_team, city, scaler)\n",
        "    input_scaled = scaler.transform(input_data)\n",
        "    prediction = model.predict(input_scaled)[0]\n",
        "    probability = model.predict_proba(input_scaled)[0][1] if prediction == 1 else model.predict_proba(input_scaled)[0][0]\n",
        "\n",
        "    # Display result\n",
        "    display(HTML('<div class=\"prediction-box\">'))\n",
        "    if prediction == 1:\n",
        "        display(HTML(f'<p class=\"prediction-result\">{batting_team} wins with {probability*100:.2f}% probability</p>'))\n",
        "    else:\n",
        "        display(HTML(f'<p class=\"prediction-result\">{bowling_team} wins with {(1-probability)*100:.2f}% probability</p>'))\n",
        "    print(f\"Match Summary: {batting_team} vs {bowling_team} at {city}\")\n",
        "    print(f\"Target: {total_run_x}, Score: {current_score}/{10-wickets_remaining}, Overs: {20-overs_completed:.1f}/20\")\n",
        "    display(HTML('</div>'))\n",
        "\n",
        "if __name__ == '__main__':\n",
        "    svm_interface()"
      ],
      "metadata": {
        "colab": {
          "base_uri": "https://localhost:8080/",
          "height": 827
        },
        "id": "W5oVjlm0Jlde",
        "outputId": "643a2aa2-0356-4939-9519-c8b259f8cfe8"
      },
      "execution_count": null,
      "outputs": [
        {
          "output_type": "stream",
          "name": "stdout",
          "text": [
            "Drive already mounted at /content/drive; to attempt to forcibly remount, call drive.mount(\"/content/drive\", force_remount=True).\n",
            "SVM model and scaler loaded.\n",
            "Expected features: ['runs_left' 'balls_left' 'wickets_remaining' 'total_run_x' 'crr' 'rrr'\n",
            " 'batting_team_Delhi Capitals' 'batting_team_Gujarat Titans'\n",
            " 'batting_team_Kolkata Knight Riders' 'batting_team_Lucknow Super Giants'\n",
            " 'batting_team_Mumbai Indians' 'batting_team_Punjab Kings'\n",
            " 'batting_team_Rajasthan Royals'\n",
            " 'batting_team_Royal Challengers Bangalore'\n",
            " 'batting_team_Sunrisers Hyderabad' 'bowling_team_Delhi Capitals'\n",
            " 'bowling_team_Gujarat Titans' 'bowling_team_Kolkata Knight Riders'\n",
            " 'bowling_team_Lucknow Super Giants' 'bowling_team_Mumbai Indians'\n",
            " 'bowling_team_Punjab Kings' 'bowling_team_Rajasthan Royals'\n",
            " 'bowling_team_Royal Challengers Bangalore'\n",
            " 'bowling_team_Sunrisers Hyderabad' 'city_Bengaluru' 'city_Chennai'\n",
            " 'city_Delhi' 'city_Dharamsala' 'city_Guwahati' 'city_Hyderabad'\n",
            " 'city_Jaipur' 'city_Kolkata' 'city_Lucknow'\n",
            " 'city_Mullanpur/New Chandigarh' 'city_Mumbai' 'city_Visakhapatnam']\n"
          ]
        },
        {
          "output_type": "display_data",
          "data": {
            "text/plain": [
              "<IPython.core.display.HTML object>"
            ],
            "text/html": [
              "\n",
              "    <style>\n",
              "        .main-header { color: #0066cc; text-align: center; font-size: 32px; font-weight: bold; margin-bottom: 20px; }\n",
              "        .sub-header { color: #0066cc; font-size: 20px; font-weight: bold; margin: 20px 0 10px; }\n",
              "        .prediction-box { background-color: #e6f0ff; border-radius: 10px; padding: 15px; margin: 10px 0; }\n",
              "        .prediction-result { font-size: 20px; font-weight: bold; color: #006600; text-align: center; }\n",
              "    </style>\n",
              "    "
            ]
          },
          "metadata": {}
        },
        {
          "output_type": "display_data",
          "data": {
            "text/plain": [
              "<IPython.core.display.HTML object>"
            ],
            "text/html": [
              "<h1 class=\"main-header\">SVM IPL Predictor</h1>"
            ]
          },
          "metadata": {}
        },
        {
          "output_type": "display_data",
          "data": {
            "text/plain": [
              "<IPython.core.display.HTML object>"
            ],
            "text/html": [
              "<h2 class=\"sub-header\">Match Situation</h2>"
            ]
          },
          "metadata": {}
        },
        {
          "output_type": "stream",
          "name": "stdout",
          "text": [
            "Runs Left (0-300): 100\n",
            "Balls Left (0-120): 55\n",
            "Wickets Remaining (0-10): 5\n",
            "Target Score (0-300): 188\n",
            "\n",
            "Current Run Rate: 8.12\n",
            "Required Run Rate: 10.91\n"
          ]
        },
        {
          "output_type": "display_data",
          "data": {
            "text/plain": [
              "<IPython.core.display.HTML object>"
            ],
            "text/html": [
              "<h2 class=\"sub-header\">Select Teams and City</h2>"
            ]
          },
          "metadata": {}
        },
        {
          "name": "stdout",
          "output_type": "stream",
          "text": [
            "Teams: ['Delhi Capitals', 'Gujarat Titans', 'Kolkata Knight Riders', 'Lucknow Super Giants', 'Mumbai Indians', 'Chennai Super Kings', 'Royal Challengers Bangalore', 'Sunrisers Hyderabad', 'Punjab Kings', 'Rajasthan Royals']\n",
            "Batting Team: Gujarat Titans\n",
            "Bowling Team: Lucknow Super Giants\n",
            "Cities: ['Bengaluru', 'Chennai', 'Delhi', 'Dharamsala', 'Guwahati', 'Mumbai', 'Kolkata', 'Hyderabad', 'Jaipur', 'Mullanpur/New Chandigarh', 'Visakhapatnam']\n",
            "City: Kolkata\n"
          ]
        },
        {
          "output_type": "display_data",
          "data": {
            "text/plain": [
              "<IPython.core.display.HTML object>"
            ],
            "text/html": [
              "<div class=\"prediction-box\">"
            ]
          },
          "metadata": {}
        },
        {
          "output_type": "display_data",
          "data": {
            "text/plain": [
              "<IPython.core.display.HTML object>"
            ],
            "text/html": [
              "<p class=\"prediction-result\">Gujarat Titans wins with 58.29% probability</p>"
            ]
          },
          "metadata": {}
        },
        {
          "output_type": "stream",
          "name": "stdout",
          "text": [
            "Match Summary: Gujarat Titans vs Lucknow Super Giants at Kolkata\n",
            "Target: 188.0, Score: 88.0/5, Overs: 9.2/20\n"
          ]
        },
        {
          "output_type": "display_data",
          "data": {
            "text/plain": [
              "<IPython.core.display.HTML object>"
            ],
            "text/html": [
              "</div>"
            ]
          },
          "metadata": {}
        }
      ]
    },
    {
      "cell_type": "code",
      "source": [],
      "metadata": {
        "id": "cHVaeW_mJmW6"
      },
      "execution_count": null,
      "outputs": []
    }
  ]
}